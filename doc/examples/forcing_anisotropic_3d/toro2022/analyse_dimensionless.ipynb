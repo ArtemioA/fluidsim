{
 "cells": [
  {
   "cell_type": "code",
   "execution_count": null,
   "id": "66dc3bb0-7141-4ae1-a5e5-7f8de9e60bae",
   "metadata": {},
   "outputs": [],
   "source": [
    "%matplotlib widget\n",
    "# %matplotlib inline"
   ]
  },
  {
   "cell_type": "code",
   "execution_count": null,
   "id": "eb7b9087-dfb9-4eb4-af26-b61224095f1c",
   "metadata": {},
   "outputs": [],
   "source": [
    "from pathlib import Path\n",
    "import re"
   ]
  },
  {
   "cell_type": "code",
   "execution_count": null,
   "id": "b9d7b748-cbf1-4731-8c3b-4fb278f926ce",
   "metadata": {},
   "outputs": [],
   "source": [
    "import numpy as np\n",
    "import matplotlib.pyplot as plt"
   ]
  },
  {
   "cell_type": "code",
   "execution_count": null,
   "id": "ec0c63a5-566b-4067-8bc4-eabf2f3d943b",
   "metadata": {},
   "outputs": [],
   "source": [
    "from fluidsim import load\n",
    "from fluidsim.util import get_dataframe_from_paths"
   ]
  },
  {
   "cell_type": "code",
   "execution_count": null,
   "id": "4e234f1b-a57c-43dc-9a3f-b12dbd10fed9",
   "metadata": {},
   "outputs": [],
   "source": [
    "height = 5.5\n",
    "plt.rc(\"figure\", figsize=(1.33 * height, height))"
   ]
  },
  {
   "cell_type": "code",
   "execution_count": null,
   "id": "99e933b7-f1bf-4b16-8268-1392e7dbc101",
   "metadata": {},
   "outputs": [],
   "source": [
    "path_base = Path(\"/fsnet/project/meige/2022/22STRATURBANIS/aniso\")\n",
    "\n",
    "def get_path_finer_resol(N, Rb):\n",
    "    paths = sorted(path_base.glob(f\"ns3d.strat*_Rb{Rb}*_N{N}*\"))\n",
    "    return paths[-1]\n",
    "\n",
    "paths320 = sorted(path_base.glob(f\"ns3d.strat*_320x320*\"))\n",
    "couples = set()\n",
    "for path in paths320:\n",
    "    name = path.name\n",
    "    Rb = re.search(r\"_Rb(.*?)_\", path.name).group(1)\n",
    "    N = re.search(r\"_N(.*?)_\", path.name).group(1)\n",
    "    couples.add((N, Rb))\n",
    "    \n",
    "paths = []\n",
    "for N, Rb in couples:\n",
    "    paths.append(get_path_finer_resol(N, Rb))\n",
    "        \n",
    "[p.name for p in paths]"
   ]
  },
  {
   "cell_type": "code",
   "execution_count": null,
   "id": "31c30076-735d-4afc-b711-a873eefb79fc",
   "metadata": {},
   "outputs": [],
   "source": [
    "def customize(result, sim):\n",
    "    result[\"Rb\"] = float(sim.params.short_name_type_run.split(\"_Rb\")[-1])\n",
    "    result[\"nx\"] = sim.params.oper.nx \n",
    "\n",
    "\n",
    "df = get_dataframe_from_paths(paths, tmin=\"t_start+1\", use_cache=True, customize=customize)"
   ]
  },
  {
   "cell_type": "code",
   "execution_count": null,
   "id": "82266919-f270-4e4b-a172-b409a6016081",
   "metadata": {},
   "outputs": [],
   "source": [
    "df"
   ]
  },
  {
   "cell_type": "code",
   "execution_count": null,
   "id": "35d4abd2-f03e-432d-b6e4-dae455f46340",
   "metadata": {},
   "outputs": [],
   "source": [
    "df[(df.Fh < 0.04) & (df.Fh > 0.02) & (df.R4 > 8)]"
   ]
  },
  {
   "cell_type": "code",
   "execution_count": null,
   "id": "b0657af2-371a-4206-a659-dfa40abcbc41",
   "metadata": {},
   "outputs": [],
   "source": [
    "def plot(df, x, y, logx=True, logy=False, c=None, vmin=None, vmax=None):\n",
    "    ax = df.plot.scatter(\n",
    "        x=x, y=y, logx=logx, logy=logy, c=c, edgecolors=\"k\", vmin=vmin, vmax=vmax\n",
    "    )\n",
    "    pc = ax.collections[0]\n",
    "    pc.set_cmap(\"viridis\")\n",
    "    plt.colorbar(pc, ax=ax)\n",
    "    return ax"
   ]
  },
  {
   "cell_type": "code",
   "execution_count": null,
   "id": "d193888f-f4ec-4f28-8220-1d08e265a86d",
   "metadata": {},
   "outputs": [],
   "source": [
    "plot(df, \"Fh\", \"R2\", c=df.I_velocity)"
   ]
  },
  {
   "cell_type": "code",
   "execution_count": null,
   "id": "5ca85a83-d079-42b4-922e-3e2b70d3b983",
   "metadata": {},
   "outputs": [],
   "source": [
    "plot(df, \"Fh\", \"R2\", c=df.I_dissipation)"
   ]
  },
  {
   "cell_type": "code",
   "execution_count": null,
   "id": "6afb1bb2-24b8-4859-977d-0c0364a61a13",
   "metadata": {},
   "outputs": [],
   "source": [
    "plot(df, \"Fh\", \"R4\", c=df.I_velocity, logy=True)"
   ]
  },
  {
   "cell_type": "code",
   "execution_count": null,
   "id": "25ca88a8-5386-4ba4-9d20-b803f1f3d77b",
   "metadata": {},
   "outputs": [],
   "source": [
    "plot(df, \"Fh\", \"R2\", c=df[\"epsK2/epsK\"], logy=True)"
   ]
  },
  {
   "cell_type": "code",
   "execution_count": null,
   "id": "f7b76f4d-a1a3-43d7-8e89-de5c9230c6ea",
   "metadata": {},
   "outputs": [],
   "source": [
    "plot(df, \"Fh\", \"epsK2/epsK\", c=np.log10(df[\"R2\"]))"
   ]
  },
  {
   "cell_type": "code",
   "execution_count": null,
   "id": "9c5f51d6-7333-4d03-b8fc-b25a07c9c006",
   "metadata": {},
   "outputs": [],
   "source": [
    "plot(df, \"Fh\", \"I_velocity\", c=np.log10(df[\"R2\"]))"
   ]
  },
  {
   "cell_type": "code",
   "execution_count": null,
   "id": "0cffd921-1a92-4063-81bc-d0406d434467",
   "metadata": {},
   "outputs": [],
   "source": [
    "plot(df, \"R2\", \"I_dissipation\", c=np.log10(df[\"R2\"]))"
   ]
  },
  {
   "cell_type": "code",
   "execution_count": null,
   "id": "48ec13e1-778c-429d-8381-1bb51c7c08bc",
   "metadata": {},
   "outputs": [],
   "source": [
    "def plot2(dataframe, ax=None, color=None):\n",
    "    return dataframe.plot.scatter(\n",
    "        x=\"Fh\", y=\"Gamma\", logx=True, ax=ax, color=color\n",
    "    )\n",
    "\n",
    "\n",
    "tab10 = plt.get_cmap(\"tab10\")\n",
    "\n",
    "Ns = sorted(df.N.unique())\n",
    "\n",
    "ax = None\n",
    "for iN, N in enumerate(Ns):\n",
    "    ax = plot2(df[df.N == N], ax=ax, color=tab10(iN))\n",
    "\n",
    "\n",
    "fig = ax.figure\n",
    "\n",
    "ax_sub = fig.add_axes([0.6, 0.6, 1.33 * 0.2, 0.2])\n",
    "\n",
    "\n",
    "def plot2(dataframe, color=None):\n",
    "    dataframe.plot.scatter(\n",
    "        x=\"Fh\", y=\"Gamma\", logx=True, logy=True, ax=ax_sub, color=color\n",
    "    )\n",
    "\n",
    "\n",
    "for iN, N in enumerate(Ns):\n",
    "    ax = plot2(df[df.N == N], color=tab10(iN))\n",
    "\n",
    "ax_sub.set_xlabel(\"\")\n",
    "ax_sub.set_ylabel(\"\")\n",
    "\n",
    "xs = np.linspace(7e-2, 3.5e-1, 4)\n",
    "ax_sub.plot(xs, 3e-2 * xs**-1)\n",
    "ax_sub.text(0.1, 0.1, \"$k^{-1}$\")\n",
    "\n",
    "xs = np.linspace(5e-1, 1.5, 4)\n",
    "ax_sub.plot(xs, 3e-2 * xs**-2)\n",
    "ax_sub.text(1, 0.05, \"$k^{-2}$\");"
   ]
  },
  {
   "cell_type": "code",
   "execution_count": null,
   "id": "cdbb0bf9-4d4c-42a1-9c7d-7d2434271a3c",
   "metadata": {},
   "outputs": [],
   "source": [
    "plot(df, \"Fh\", \"Gamma\", c=np.log10(df[\"R2\"]), vmin=0, vmax=2)"
   ]
  },
  {
   "cell_type": "code",
   "execution_count": null,
   "id": "cd6a897a-22aa-4869-9a73-693616b3ecad",
   "metadata": {},
   "outputs": [],
   "source": [
    "plot(df, \"Fh\", \"Gamma\", c=np.log10(df[\"min_R\"]), vmin=0, vmax=2)"
   ]
  }
 ],
 "metadata": {
  "kernelspec": {
   "display_name": "Python 3 (ipykernel)",
   "language": "python",
   "name": "python3"
  },
  "language_info": {
   "codemirror_mode": {
    "name": "ipython",
    "version": 3
   },
   "file_extension": ".py",
   "mimetype": "text/x-python",
   "name": "python",
   "nbconvert_exporter": "python",
   "pygments_lexer": "ipython3",
   "version": "3.9.7"
  }
 },
 "nbformat": 4,
 "nbformat_minor": 5
}

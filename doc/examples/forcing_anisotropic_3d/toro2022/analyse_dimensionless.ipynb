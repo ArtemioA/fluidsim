{
 "cells": [
  {
   "cell_type": "code",
   "execution_count": null,
   "id": "66dc3bb0-7141-4ae1-a5e5-7f8de9e60bae",
   "metadata": {},
   "outputs": [],
   "source": [
    "%matplotlib widget\n",
    "# %matplotlib inline"
   ]
  },
  {
   "cell_type": "code",
   "execution_count": null,
   "id": "eb7b9087-dfb9-4eb4-af26-b61224095f1c",
   "metadata": {},
   "outputs": [],
   "source": [
    "from pathlib import Path\n",
    "import re\n",
    "from itertools import product"
   ]
  },
  {
   "cell_type": "code",
   "execution_count": null,
   "id": "b9d7b748-cbf1-4731-8c3b-4fb278f926ce",
   "metadata": {},
   "outputs": [],
   "source": [
    "import numpy as np\n",
    "import matplotlib.pyplot as plt"
   ]
  },
  {
   "cell_type": "code",
   "execution_count": null,
   "id": "ec0c63a5-566b-4067-8bc4-eabf2f3d943b",
   "metadata": {},
   "outputs": [],
   "source": [
    "from fluidsim import load\n",
    "from fluidsim.util import (get_dataframe_from_paths,\n",
    "    times_start_last_from_path,\n",
    ")\n"
   ]
  },
  {
   "cell_type": "code",
   "execution_count": null,
   "id": "4e234f1b-a57c-43dc-9a3f-b12dbd10fed9",
   "metadata": {},
   "outputs": [],
   "source": [
    "height = 5.5\n",
    "plt.rc(\"figure\", figsize=(1.33 * height, height))"
   ]
  },
  {
   "cell_type": "code",
   "execution_count": null,
   "id": "99e933b7-f1bf-4b16-8268-1392e7dbc101",
   "metadata": {},
   "outputs": [],
   "source": [
    "path_base = Path(\"/fsnet/project/meige/2022/22STRATURBANIS/aniso\")\n",
    "path_base_occigen = path_base.parent / \"from_occigen/aniso\"\n",
    "paths_all = sorted(list(path_base.glob(f\"ns3d.strat*\")) + list(path_base_occigen.glob(f\"ns3d.strat*\"))) \n",
    "\n",
    "def get_path_finer_resol(N, Rb):\n",
    "    str_N = f\"_N{N}\"\n",
    "    str_Rb = f\"_Rb{Rb:.3g}\"\n",
    "    paths_couple = [p for p in paths_all if str_N in p.name and str_Rb in p.name]\n",
    "    paths_couple.sort(key=lambda p: int(p.name.split(\"x\")[1]), reverse=True)\n",
    "    for path in paths_couple:\n",
    "        t_start, t_last = times_start_last_from_path(path)\n",
    "        if t_last > t_start + 1:    \n",
    "            return path\n",
    "\n",
    "        \n",
    "        \n",
    "def lprod(a, b):\n",
    "    return list(product(a, b))\n",
    "\n",
    "\n",
    "couples = (\n",
    "    lprod([10, 20, 40], [5, 10, 20, 40, 80, 160])\n",
    "    + lprod([30], [10, 20, 40])\n",
    "    + lprod([6.5], [100, 200])\n",
    "    + lprod([4], [250, 500])\n",
    "    + lprod([3], [450, 900])\n",
    "    + lprod([2], [1000, 2000])\n",
    "    + lprod([0.66], [9000, 18000])\n",
    ")\n",
    "couples.remove((40, 160))\n",
    "\n",
    "\n",
    "    \n",
    "paths = []\n",
    "for N, Rb in couples:\n",
    "    paths.append(get_path_finer_resol(N, Rb))\n",
    "        \n",
    "[p.name for p in paths]"
   ]
  },
  {
   "cell_type": "code",
   "execution_count": null,
   "id": "31c30076-735d-4afc-b711-a873eefb79fc",
   "metadata": {},
   "outputs": [],
   "source": [
    "def customize(result, sim):\n",
    "    result[\"Rb\"] = float(sim.params.short_name_type_run.split(\"_Rb\")[-1])\n",
    "    result[\"nx\"] = sim.params.oper.nx \n",
    "\n",
    "\n",
    "df = get_dataframe_from_paths(paths, tmin=\"t_start+1\", use_cache=True, customize=customize)"
   ]
  },
  {
   "cell_type": "code",
   "execution_count": null,
   "id": "82266919-f270-4e4b-a172-b409a6016081",
   "metadata": {},
   "outputs": [],
   "source": [
    "df"
   ]
  },
  {
   "cell_type": "code",
   "execution_count": null,
   "id": "35d4abd2-f03e-432d-b6e4-dae455f46340",
   "metadata": {},
   "outputs": [],
   "source": [
    "df[(df.Fh < 0.04) & (df.Fh > 0.02) & (df.R4 > 8)]"
   ]
  },
  {
   "cell_type": "code",
   "execution_count": null,
   "id": "b0657af2-371a-4206-a659-dfa40abcbc41",
   "metadata": {},
   "outputs": [],
   "source": [
    "def plot(df, x, y, logx=True, logy=False, c=None, vmin=None, vmax=None):\n",
    "    ax = df.plot.scatter(\n",
    "        x=x, y=y, logx=logx, logy=logy, c=c, edgecolors=\"k\", vmin=vmin, vmax=vmax\n",
    "    )\n",
    "    pc = ax.collections[0]\n",
    "    pc.set_cmap(\"viridis\")\n",
    "    plt.colorbar(pc, ax=ax)\n",
    "    return ax"
   ]
  },
  {
   "cell_type": "code",
   "execution_count": null,
   "id": "d193888f-f4ec-4f28-8220-1d08e265a86d",
   "metadata": {},
   "outputs": [],
   "source": [
    "tmp = df[df.R2 < 120]\n",
    "ax = plot(tmp, \"Fh\", \"R2\", c=tmp.I_velocity)"
   ]
  },
  {
   "cell_type": "code",
   "execution_count": null,
   "id": "5ca85a83-d079-42b4-922e-3e2b70d3b983",
   "metadata": {},
   "outputs": [],
   "source": [
    "tmp = df[df.R2 < 120]\n",
    "ax = plot(tmp, \"Fh\", \"R2\", c=tmp.I_dissipation)"
   ]
  },
  {
   "cell_type": "code",
   "execution_count": null,
   "id": "61b2ecd4-9369-41b5-8033-b09e59e1df6c",
   "metadata": {},
   "outputs": [],
   "source": [
    "df[\"R2/Rb\"] = df.R2/df.Rb\n",
    "plot(df, \"Rb\", \"R2/Rb\", c=np.log10(df.Fh), vmin=-2, vmax=-0.8)"
   ]
  },
  {
   "cell_type": "code",
   "execution_count": null,
   "id": "621d2675-70a7-4f95-82fd-cfe5c8211079",
   "metadata": {},
   "outputs": [],
   "source": [
    "df[\"tmp\"] = 1/df.Fh\n",
    "plot(df, \"Fh\", \"tmp\", c=np.log10(df.Rb), vmin=1, vmax=2)"
   ]
  },
  {
   "cell_type": "code",
   "execution_count": null,
   "id": "6afb1bb2-24b8-4859-977d-0c0364a61a13",
   "metadata": {},
   "outputs": [],
   "source": [
    "plot(df, \"Fh\", \"R4\", c=df.I_velocity, logy=True)"
   ]
  },
  {
   "cell_type": "code",
   "execution_count": null,
   "id": "25ca88a8-5386-4ba4-9d20-b803f1f3d77b",
   "metadata": {},
   "outputs": [],
   "source": [
    "plot(df, \"Fh\", \"R2\", c=df[\"epsK2/epsK\"], logy=True, vmin=0, vmax=1);"
   ]
  },
  {
   "cell_type": "code",
   "execution_count": null,
   "id": "f7b76f4d-a1a3-43d7-8e89-de5c9230c6ea",
   "metadata": {},
   "outputs": [],
   "source": [
    "ax = plot(df, \"Fh\", \"epsK2/epsK\", c=np.log10(df[\"R2\"]), vmin=0.5, vmax=2)\n",
    "ax.set_ylim(bottom=0);"
   ]
  },
  {
   "cell_type": "code",
   "execution_count": null,
   "id": "e4c2c85a-dcb7-4632-8479-6e65f1eca85d",
   "metadata": {},
   "outputs": [],
   "source": [
    "df[df[\"epsK2/epsK\"] < 0.6]"
   ]
  },
  {
   "cell_type": "code",
   "execution_count": null,
   "id": "9c5f51d6-7333-4d03-b8fc-b25a07c9c006",
   "metadata": {},
   "outputs": [],
   "source": [
    "plot(df, \"Fh\", \"I_velocity\", c=np.log10(df[\"R2\"]), vmin=0.5, vmax=2)"
   ]
  },
  {
   "cell_type": "code",
   "execution_count": null,
   "id": "0cffd921-1a92-4063-81bc-d0406d434467",
   "metadata": {},
   "outputs": [],
   "source": [
    "plot(df, \"R2\", \"I_dissipation\", c=np.log10(df[\"Fh\"]), vmin=-2, vmax=-1)"
   ]
  },
  {
   "cell_type": "code",
   "execution_count": null,
   "id": "48ec13e1-778c-429d-8381-1bb51c7c08bc",
   "metadata": {},
   "outputs": [],
   "source": [
    "def plot2(dataframe, ax=None, color=None):\n",
    "    return dataframe.plot.scatter(\n",
    "        x=\"Fh\", y=\"Gamma\", logx=True, ax=ax, color=color\n",
    "    )\n",
    "\n",
    "\n",
    "tab10 = plt.get_cmap(\"tab10\")\n",
    "\n",
    "Ns = sorted(df.N.unique())\n",
    "\n",
    "ax = None\n",
    "for iN, N in enumerate(Ns):\n",
    "    ax = plot2(df[df.N == N], ax=ax, color=tab10(iN))\n",
    "\n",
    "\n",
    "fig = ax.figure\n",
    "\n",
    "ax_sub = fig.add_axes([0.6, 0.6, 1.33 * 0.2, 0.2])\n",
    "\n",
    "\n",
    "def plot2(dataframe, color=None):\n",
    "    dataframe.plot.scatter(\n",
    "        x=\"Fh\", y=\"Gamma\", logx=True, logy=True, ax=ax_sub, color=color\n",
    "    )\n",
    "\n",
    "\n",
    "for iN, N in enumerate(Ns):\n",
    "    ax = plot2(df[df.N == N], color=tab10(iN))\n",
    "\n",
    "ax_sub.set_xlabel(\"\")\n",
    "ax_sub.set_ylabel(\"\")\n",
    "\n",
    "xs = np.linspace(7e-2, 3.5e-1, 4)\n",
    "ax_sub.plot(xs, 3e-2 * xs**-1)\n",
    "ax_sub.text(0.1, 0.1, \"$k^{-1}$\")\n",
    "\n",
    "xs = np.linspace(5e-1, 1.5, 4)\n",
    "ax_sub.plot(xs, 3e-2 * xs**-2)\n",
    "ax_sub.text(1, 0.05, \"$k^{-2}$\");"
   ]
  },
  {
   "cell_type": "code",
   "execution_count": null,
   "id": "cdbb0bf9-4d4c-42a1-9c7d-7d2434271a3c",
   "metadata": {},
   "outputs": [],
   "source": [
    "plot(df, \"Fh\", \"Gamma\", c=np.log10(df[\"R2\"]), vmin=0.5, vmax=2)"
   ]
  },
  {
   "cell_type": "code",
   "execution_count": null,
   "id": "cd6a897a-22aa-4869-9a73-693616b3ecad",
   "metadata": {},
   "outputs": [],
   "source": [
    "plot(df, \"Fh\", \"Gamma\", c=np.log10(df[\"min_R\"]), vmin=0.5, vmax=2)"
   ]
  }
 ],
 "metadata": {
  "kernelspec": {
   "display_name": "Python 3 (ipykernel)",
   "language": "python",
   "name": "python3"
  },
  "language_info": {
   "codemirror_mode": {
    "name": "ipython",
    "version": 3
   },
   "file_extension": ".py",
   "mimetype": "text/x-python",
   "name": "python",
   "nbconvert_exporter": "python",
   "pygments_lexer": "ipython3",
   "version": "3.9.7"
  }
 },
 "nbformat": 4,
 "nbformat_minor": 5
}

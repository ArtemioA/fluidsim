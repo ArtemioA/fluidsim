{
 "cells": [
  {
   "cell_type": "code",
   "execution_count": null,
   "id": "66dc3bb0-7141-4ae1-a5e5-7f8de9e60bae",
   "metadata": {},
   "outputs": [],
   "source": [
    "# %matplotlib widget\n",
    "%matplotlib inline"
   ]
  },
  {
   "cell_type": "code",
   "execution_count": null,
   "id": "eb7b9087-dfb9-4eb4-af26-b61224095f1c",
   "metadata": {},
   "outputs": [],
   "source": [
    "from pathlib import Path"
   ]
  },
  {
   "cell_type": "code",
   "execution_count": null,
   "id": "b9d7b748-cbf1-4731-8c3b-4fb278f926ce",
   "metadata": {},
   "outputs": [],
   "source": [
    "import numpy as np\n",
    "import matplotlib.pyplot as plt"
   ]
  },
  {
   "cell_type": "code",
   "execution_count": null,
   "id": "ec0c63a5-566b-4067-8bc4-eabf2f3d943b",
   "metadata": {},
   "outputs": [],
   "source": [
    "from fluidsim import load\n",
    "from fluidsim.util.scripts.turb_trandom_anisotropic_postproc import (\n",
    "    get_dataframe_from_paths,\n",
    ")"
   ]
  },
  {
   "cell_type": "code",
   "execution_count": null,
   "id": "4e234f1b-a57c-43dc-9a3f-b12dbd10fed9",
   "metadata": {},
   "outputs": [],
   "source": [
    "height = 5.5\n",
    "plt.rc(\"figure\", figsize=(1.33 * height, height))"
   ]
  },
  {
   "cell_type": "code",
   "execution_count": null,
   "id": "99e933b7-f1bf-4b16-8268-1392e7dbc101",
   "metadata": {},
   "outputs": [],
   "source": [
    "nx = 320\n",
    "path_base = Path(\"/fsnet/project/meige/2022/22STRATURBANIS/aniso\")\n",
    "paths = sorted(path_base.glob(f\"ns3d.strat*_{nx}x{nx}*\"))\n",
    "[p.name for p in paths]"
   ]
  },
  {
   "cell_type": "code",
   "execution_count": null,
   "id": "31c30076-735d-4afc-b711-a873eefb79fc",
   "metadata": {},
   "outputs": [],
   "source": [
    "df = get_dataframe_from_paths(paths)"
   ]
  },
  {
   "cell_type": "code",
   "execution_count": null,
   "id": "82266919-f270-4e4b-a172-b409a6016081",
   "metadata": {},
   "outputs": [],
   "source": [
    "df"
   ]
  },
  {
   "cell_type": "code",
   "execution_count": null,
   "id": "35d4abd2-f03e-432d-b6e4-dae455f46340",
   "metadata": {},
   "outputs": [],
   "source": [
    "df[(df.Fh < 0.04) & (df.Fh > 0.02) & (df.R4 > 8)]"
   ]
  },
  {
   "cell_type": "code",
   "execution_count": null,
   "id": "71bb3c58-79bb-4d6c-8e13-a4a1aad37f62",
   "metadata": {},
   "outputs": [],
   "source": [
    "df.plot.scatter(x=\"Fh\", y=\"R2\", logx=True, logy=True);"
   ]
  },
  {
   "cell_type": "code",
   "execution_count": null,
   "id": "cd020a9a-b83a-455c-a6c0-a89d477d9975",
   "metadata": {},
   "outputs": [],
   "source": [
    "df.plot.scatter(x=\"Fh\", y=\"R4\", logx=True, logy=True);"
   ]
  },
  {
   "cell_type": "code",
   "execution_count": null,
   "id": "415be19d-7d06-4598-a441-89c12fd35be7",
   "metadata": {},
   "outputs": [],
   "source": [
    "df.plot.scatter(x=\"Fh\", y=\"ratio_diss2_disstot\", logx=True);"
   ]
  },
  {
   "cell_type": "code",
   "execution_count": null,
   "id": "66b24282-5f75-4c02-927c-f9513f234727",
   "metadata": {},
   "outputs": [],
   "source": [
    "df.plot.scatter(\n",
    "    x=\"Fh\", y=\"I_velocities\", logx=True, c=np.log10(df.R4), cmap=\"viridis\"\n",
    ");"
   ]
  },
  {
   "cell_type": "code",
   "execution_count": null,
   "id": "962aa22c-2880-4430-b7d6-68678148454c",
   "metadata": {},
   "outputs": [],
   "source": [
    "df.plot.scatter(\n",
    "    x=\"R4\", y=\"I_dissipation\", logx=True, c=np.log10(df.Fh), cmap=\"viridis\"\n",
    ")"
   ]
  },
  {
   "cell_type": "code",
   "execution_count": null,
   "id": "48ec13e1-778c-429d-8381-1bb51c7c08bc",
   "metadata": {},
   "outputs": [],
   "source": [
    "def plot(dataframe, ax=None, c=None):\n",
    "    return dataframe.plot.scatter(x=\"Fh\", y=\"Gamma\", logx=True, ax=ax, c=c)\n",
    "\n",
    "\n",
    "ax = plot(df)\n",
    "\n",
    "fig = ax.figure\n",
    "\n",
    "ax_sub = fig.add_axes([0.6, 0.6, 1.33 * 0.2, 0.2])\n",
    "\n",
    "\n",
    "def plot(dataframe, c=None):\n",
    "    dataframe.plot.scatter(\n",
    "        x=\"Fh\", y=\"Gamma\", logx=True, logy=True, ax=ax_sub, c=c\n",
    "    )\n",
    "\n",
    "\n",
    "plot(df)\n",
    "\n",
    "ax_sub.set_xlabel(\"\")\n",
    "ax_sub.set_ylabel(\"\")\n",
    "\n",
    "xs = np.linspace(7e-2, 3.5e-1, 4)\n",
    "ax_sub.plot(xs, 3e-2 * xs**-1)\n",
    "ax_sub.text(0.1, 0.1, \"$k^{-1}$\")\n",
    "\n",
    "xs = np.linspace(5e-1, 1.5, 4)\n",
    "ax_sub.plot(xs, 3e-2 * xs**-2)\n",
    "ax_sub.text(1, 0.05, \"$k^{-2}$\");"
   ]
  },
  {
   "cell_type": "code",
   "execution_count": null,
   "id": "4309e097-0df6-40e8-952f-cce5c782ec2c",
   "metadata": {},
   "outputs": [],
   "source": [
    "ax = df.plot.scatter(\n",
    "    x=\"Fh\",\n",
    "    y=\"Gamma\",\n",
    "    logx=True,\n",
    "    logy=True,\n",
    "    c=np.log10(df.R4),\n",
    "    vmin=0,\n",
    "    vmax=2,\n",
    "    edgecolors=\"k\",\n",
    ")\n",
    "plt.colorbar(ax.collections[0]);"
   ]
  },
  {
   "cell_type": "code",
   "execution_count": null,
   "id": "0e4b25f0-1bd3-4aff-866c-c09750269dd1",
   "metadata": {},
   "outputs": [],
   "source": [
    "ax = df.plot.scatter(\n",
    "    x=\"Fh\",\n",
    "    y=\"Gamma\",\n",
    "    logx=True,\n",
    "    logy=True,\n",
    "    c=np.log10(df.min_R),\n",
    "    vmin=0,\n",
    "    vmax=2,\n",
    "    edgecolors=\"k\",\n",
    ")\n",
    "plt.colorbar(ax.collections[0]);"
   ]
  }
 ],
 "metadata": {
  "kernelspec": {
   "display_name": "Python 3 (ipykernel)",
   "language": "python",
   "name": "python3"
  },
  "language_info": {
   "codemirror_mode": {
    "name": "ipython",
    "version": 3
   },
   "file_extension": ".py",
   "mimetype": "text/x-python",
   "name": "python",
   "nbconvert_exporter": "python",
   "pygments_lexer": "ipython3",
   "version": "3.9.7"
  }
 },
 "nbformat": 4,
 "nbformat_minor": 5
}

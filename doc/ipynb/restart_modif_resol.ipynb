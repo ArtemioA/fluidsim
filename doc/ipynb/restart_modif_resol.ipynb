{
 "cells": [
  {
   "cell_type": "markdown",
   "id": "f1dce0b3-e06f-49ae-9c17-a52a0d0e4ce3",
   "metadata": {},
   "source": [
    "# Restart and resolution change\n",
    "\n",
    "Fluidsim provides 2 command-line tools to restart a simulation (`fluidsim-restart`) \n",
    "and create a new file with a modified resolution (`fluidsim-modif-resolution`). \n",
    "Let's present these very useful tools!\n",
    "\n",
    "This notebook uses a Bash kernel, which means that all the code in the code cells is in Bash!\n",
    "\n",
    "First, one can get help by invoking these tools with the `-h` option:"
   ]
  },
  {
   "cell_type": "code",
   "execution_count": null,
   "id": "9200c6cf-6c31-4129-832d-80e92d5caf80",
   "metadata": {},
   "outputs": [],
   "source": [
    "fluidsim-restart -h"
   ]
  },
  {
   "cell_type": "code",
   "execution_count": null,
   "id": "f8ee3e80-c8f0-4b14-af80-ffb8d1436148",
   "metadata": {},
   "outputs": [],
   "source": [
    "fluidsim-modif-resolution -h"
   ]
  },
  {
   "cell_type": "markdown",
   "id": "3634c512-df0a-4716-bbfb-472353d55dd3",
   "metadata": {},
   "source": [
    "Then, let's use these tools. First we need a simulation directory. "
   ]
  },
  {
   "cell_type": "code",
   "execution_count": null,
   "id": "a8aff28b-6a16-4b75-a08f-68fd2901b7a3",
   "metadata": {},
   "outputs": [],
   "source": [
    "export FLUIDSIM_PATH=/tmp/sim_data\n",
    "mkdir -p $FLUIDSIM_PATH\n",
    "rm -rf $FLUIDSIM_PATH/doc_aniso"
   ]
  },
  {
   "cell_type": "code",
   "execution_count": null,
   "id": "cfc67724-05fe-4831-b4be-8ace6d646be2",
   "metadata": {},
   "outputs": [],
   "source": [
    "python -c 'from fluidsim.util.scripts.turb_trandom_anisotropic import main; main()' \\\n",
    "    --sub-directory \"doc_aniso\" -nz 12 --ratio-nh-nz 2 --t_end 1 \\\n",
    "    --modify-params \"params.output.periods_print.print_stdout = 0.25; params.output.periods_save.spect_energy_budg = 0\""
   ]
  },
  {
   "cell_type": "markdown",
   "id": "465b6db5-6ec2-43e4-a47b-51c6d4b06ab5",
   "metadata": {},
   "source": [
    "We then define a variable with the path of the directory containing the results of the simulation."
   ]
  },
  {
   "cell_type": "code",
   "execution_count": null,
   "id": "da1ee1e9-63f2-44d0-bf9b-3810cafe2b1f",
   "metadata": {},
   "outputs": [],
   "source": [
    "PATH_RUN=$FLUIDSIM_PATH/doc_aniso/$(ls $FLUIDSIM_PATH/doc_aniso)\n",
    "echo $PATH_RUN"
   ]
  },
  {
   "cell_type": "code",
   "execution_count": null,
   "id": "e035f9b9-35d7-4f8a-9a52-899fd47741ce",
   "metadata": {},
   "outputs": [],
   "source": [
    "ls $PATH_RUN"
   ]
  },
  {
   "cell_type": "markdown",
   "id": "e3948e8d-cf69-4e62-9521-312e45445ca5",
   "metadata": {},
   "source": [
    "Let's restart the simulation to run until `t_end = 2`:"
   ]
  },
  {
   "cell_type": "code",
   "execution_count": null,
   "id": "9dcdf510-1483-4a1a-95a1-bf01822babdc",
   "metadata": {},
   "outputs": [],
   "source": [
    "fluidsim-restart $PATH_RUN --t_end 2.0"
   ]
  },
  {
   "cell_type": "code",
   "execution_count": null,
   "id": "21a6bcff-30ce-42a0-a257-637bc1b0c38c",
   "metadata": {},
   "outputs": [],
   "source": [
    "ls $PATH_RUN"
   ]
  },
  {
   "cell_type": "markdown",
   "id": "e4f15fab-8a8a-409f-b470-3fb8807bae6c",
   "metadata": {},
   "source": [
    "Now, another simulation but with the spatiotemporal spectra output activated:"
   ]
  },
  {
   "cell_type": "code",
   "execution_count": null,
   "id": "e02bcf92-04d8-4449-bca5-5a6ac738f2d5",
   "metadata": {},
   "outputs": [],
   "source": [
    "fluidsim-restart $PATH_RUN --t_end 3.0 --modify-params \"params.output.periods_save.spatiotemporal_spectra = 2 * pi / (4 * params.N)\""
   ]
  },
  {
   "cell_type": "code",
   "execution_count": null,
   "id": "26919f71-b361-419a-8298-7bb7b1be88d6",
   "metadata": {},
   "outputs": [],
   "source": [
    "ls $PATH_RUN"
   ]
  },
  {
   "cell_type": "code",
   "execution_count": null,
   "id": "c2fdaacd-0782-4b11-af01-2e25988102cf",
   "metadata": {},
   "outputs": [],
   "source": [
    "ls $PATH_RUN/spatiotemporal"
   ]
  },
  {
   "cell_type": "markdown",
   "id": "37aeec81-21e5-44fe-aef4-2f4d93efd34b",
   "metadata": {},
   "source": [
    "We want to start a larger simulation from the last state of this small simulation. We first need to create a larger file:"
   ]
  },
  {
   "cell_type": "code",
   "execution_count": null,
   "id": "1f6590e5-4ad7-4aff-bc58-2383be2fbc3c",
   "metadata": {},
   "outputs": [],
   "source": [
    "fluidsim-modif-resolution $PATH_RUN 3/2"
   ]
  },
  {
   "cell_type": "code",
   "execution_count": null,
   "id": "e6b0e1c5-7087-4abb-a3b4-713a4f56cabb",
   "metadata": {},
   "outputs": [],
   "source": [
    "PATH_NEW_STATE=$PATH_RUN/$(ls $PATH_RUN | grep State_phys)\n",
    "echo $PATH_NEW_STATE"
   ]
  },
  {
   "cell_type": "code",
   "execution_count": null,
   "id": "45f90dfd-0825-4680-88f1-e6c178b0a8ac",
   "metadata": {},
   "outputs": [],
   "source": [
    "ls $PATH_NEW_STATE"
   ]
  },
  {
   "cell_type": "code",
   "execution_count": null,
   "id": "c508e3e0-16bb-48fb-a90c-edf366ad07cb",
   "metadata": {},
   "outputs": [],
   "source": [
    "fluidsim-restart $PATH_NEW_STATE --t_end 3.1 --modify-params \"params.nu_2 /= 2; params.output.periods_print.print_stdout = 0.05\""
   ]
  }
 ],
 "metadata": {
  "kernelspec": {
   "display_name": "Bash",
   "language": "bash",
   "name": "bash"
  },
  "language_info": {
   "codemirror_mode": "shell",
   "file_extension": ".sh",
   "mimetype": "text/x-sh",
   "name": "bash"
  }
 },
 "nbformat": 4,
 "nbformat_minor": 5
}
